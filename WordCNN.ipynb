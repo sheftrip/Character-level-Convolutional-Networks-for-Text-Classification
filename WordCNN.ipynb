{
  "nbformat": 4,
  "nbformat_minor": 0,
  "metadata": {
    "colab": {
      "name": "Copy of word2vec.ipynb",
      "provenance": [],
      "collapsed_sections": []
    },
    "kernelspec": {
      "name": "python3",
      "display_name": "Python 3"
    },
    "accelerator": "GPU"
  },
  "cells": [
    {
      "cell_type": "markdown",
      "metadata": {
        "id": "lTGqXF6bRD15",
        "colab_type": "text"
      },
      "source": [
        "**Libraries**\n",
        "\n",
        "---\n",
        "\n"
      ]
    },
    {
      "cell_type": "code",
      "metadata": {
        "id": "6QsqZFVvbHb9",
        "colab_type": "code",
        "colab": {}
      },
      "source": [
        "from google.colab import drive\n",
        "import numpy as np\n",
        "import csv\n",
        "import collections\n",
        "from collections import Counter\n",
        "import torch\n",
        "from torch.utils.data import TensorDataset, DataLoader\n",
        "import torch.nn as nn\n",
        "import torch.nn.functional as F\n",
        "from sklearn import metrics\n",
        "from sklearn.metrics import confusion_matrix\n",
        "import matplotlib.pyplot as plt\n",
        "from sklearn.metrics import classification_report\n",
        "import itertools\n",
        "from string import punctuation"
      ],
      "execution_count": 0,
      "outputs": []
    },
    {
      "cell_type": "markdown",
      "metadata": {
        "id": "2NYt_7oWGLg8",
        "colab_type": "text"
      },
      "source": [
        "**Mounting the Drive**\n",
        "\n",
        "---\n",
        "\n"
      ]
    },
    {
      "cell_type": "code",
      "metadata": {
        "id": "DFwrcSVPna0a",
        "colab_type": "code",
        "outputId": "508f7839-71ef-4231-ca7a-03927a2b6ff1",
        "colab": {
          "base_uri": "https://localhost:8080/",
          "height": 124
        }
      },
      "source": [
        "drive.mount('/content/drive', force_remount= True)\n",
        "\n",
        "\n",
        "#Uncomment if you want to use Dataset prepared by us\n",
        "# Make sure you've executed Cleaning.ipynb first\n",
        "\n",
        "# TRAIN_DATA = '/content/drive/My Drive/OurDataset/train.csv'\n",
        "# TEST_DATA = '/content/drive/My Drive/OurDataset/test.csv'\n",
        "\n",
        "#Uncomment if you want to use Dataset prepared by the authors of the paper Character-level Convolutional Networks for Text\n",
        "#Classification\n",
        "\n",
        "TRAIN_DATA = '/content/drive/My Drive/AG_News/train.csv'\n",
        "TEST_DATA = '/content/drive/My Drive/AG_News/test.csv'\n"
      ],
      "execution_count": 0,
      "outputs": [
        {
          "output_type": "stream",
          "text": [
            "Go to this URL in a browser: https://accounts.google.com/o/oauth2/auth?client_id=947318989803-6bn6qk8qdgf4n4g3pfee6491hc0brc4i.apps.googleusercontent.com&redirect_uri=urn%3aietf%3awg%3aoauth%3a2.0%3aoob&response_type=code&scope=email%20https%3a%2f%2fwww.googleapis.com%2fauth%2fdocs.test%20https%3a%2f%2fwww.googleapis.com%2fauth%2fdrive%20https%3a%2f%2fwww.googleapis.com%2fauth%2fdrive.photos.readonly%20https%3a%2f%2fwww.googleapis.com%2fauth%2fpeopleapi.readonly\n",
            "\n",
            "Enter your authorization code:\n",
            "··········\n",
            "Mounted at /content/drive\n"
          ],
          "name": "stdout"
        }
      ]
    },
    {
      "cell_type": "code",
      "metadata": {
        "id": "EamB50uffLye",
        "colab_type": "code",
        "colab": {}
      },
      "source": [
        "DIR = '/content/drive/My Drive/GoogleNews-vectors-negative300-SLIM.bin'"
      ],
      "execution_count": 0,
      "outputs": []
    },
    {
      "cell_type": "markdown",
      "metadata": {
        "id": "SfbNCdpdGFao",
        "colab_type": "text"
      },
      "source": [
        "**Data Pre-Processing**\n",
        "\n",
        "---\n",
        "\n"
      ]
    },
    {
      "cell_type": "code",
      "metadata": {
        "id": "TN-fBC7CrCp-",
        "colab_type": "code",
        "colab": {}
      },
      "source": [
        "def get_all_words(path):  \n",
        "#make list of labels, and list of (title+description)\n",
        "    texts, labels = [], []\n",
        "    with open(path) as csv_file:\n",
        "        reader = csv.reader(csv_file, quotechar='\"')\n",
        "        for idx, line in enumerate(reader):\n",
        "            text = \"\"\n",
        "            text = line[1]+' '+line[2]\n",
        "            label = int(line[0])-1 \n",
        "            texts.append(text)\n",
        "            labels.append(label)\n",
        "    # print(texts[0])\n",
        "    cleaned_text=[]\n",
        "    #keep only alphabets,numbers and space\n",
        "    keeplist = set('abcdefghijklmnopqrstuvwxyz ABCDEFGHIJKLMNOPQRSTUVWXYZ123456789')\n",
        "    for ln in texts:\n",
        "        cleaned = ''.join(filter(keeplist.__contains__, ln))\n",
        "        cleaned = cleaned.lower()\n",
        "        cleaned_text.append(cleaned)\n",
        "    \n",
        "\n",
        "    # print(cleaned_text[:10])\n",
        "\n",
        "    all_words,words=[],[]\n",
        "    for ln in cleaned_text:\n",
        "        words = ln.split()\n",
        "        all_words.append(words)\n",
        "    \n",
        "    return all_words,labels\n"
      ],
      "execution_count": 0,
      "outputs": []
    },
    {
      "cell_type": "markdown",
      "metadata": {
        "id": "FjMMusQAGg8p",
        "colab_type": "text"
      },
      "source": [
        "**Creating Datasets**\n",
        "\n",
        "---\n",
        "\n"
      ]
    },
    {
      "cell_type": "code",
      "metadata": {
        "id": "AGoGUvAXlNC5",
        "colab_type": "code",
        "colab": {}
      },
      "source": [
        "all_words_train, labels_list_train = get_all_words(TRAIN_DATA)\n",
        "all_words_test,labels_list_test = get_all_words(TEST_DATA)"
      ],
      "execution_count": 0,
      "outputs": []
    },
    {
      "cell_type": "markdown",
      "metadata": {
        "id": "iT4w1L9QGvgp",
        "colab_type": "text"
      },
      "source": [
        "**Initialising the Pre-Trained Embedding Model**\n",
        "\n",
        "---\n",
        "\n"
      ]
    },
    {
      "cell_type": "code",
      "metadata": {
        "id": "ufyQo6mVqo1z",
        "colab_type": "code",
        "outputId": "1ca4e966-002d-4302-e104-e6f3139a93ce",
        "colab": {
          "base_uri": "https://localhost:8080/",
          "height": 72
        }
      },
      "source": [
        "#adopt the embedding model\n",
        "from gensim.models import KeyedVectors\n",
        "\n",
        "embed_lookup = KeyedVectors.load_word2vec_format(DIR, binary=True)             "
      ],
      "execution_count": 0,
      "outputs": [
        {
          "output_type": "stream",
          "text": [
            "/usr/local/lib/python3.6/dist-packages/smart_open/smart_open_lib.py:253: UserWarning: This function is deprecated, use smart_open.open instead. See the migration notes for details: https://github.com/RaRe-Technologies/smart_open/blob/master/README.rst#migrating-to-the-new-open-function\n",
            "  'See the migration notes for details: %s' % _MIGRATION_NOTES_URL\n"
          ],
          "name": "stderr"
        }
      ]
    },
    {
      "cell_type": "code",
      "metadata": {
        "id": "qFhYGl9yq-wy",
        "colab_type": "code",
        "colab": {}
      },
      "source": [
        "#store the pretrained words from the model in an array\n",
        "embedded_words = []\n",
        "for word in embed_lookup.vocab:\n",
        "    embedded_words.append(word)\n",
        "embedded_words = [word.lower() for word in embedded_words]"
      ],
      "execution_count": 0,
      "outputs": []
    },
    {
      "cell_type": "code",
      "metadata": {
        "id": "q0Pm9hWjrEbf",
        "colab_type": "code",
        "colab": {}
      },
      "source": [
        "#for each word, get word embeddings\n",
        "#embedding details- length: 300, size of vocab: 3000000\n",
        "# i = 1\n",
        "# word = embedded_words[i] \n",
        "# embedding = embed_lookup[word]\n",
        "\n",
        "#lowercase\n",
        "# embedded_words = [word.lower() for word in embedded_words]"
      ],
      "execution_count": 0,
      "outputs": []
    },
    {
      "cell_type": "markdown",
      "metadata": {
        "id": "1eRc9leUIGXu",
        "colab_type": "text"
      },
      "source": [
        "**Encode words using the embedding**\n",
        "\n",
        "---\n",
        "\n"
      ]
    },
    {
      "cell_type": "code",
      "metadata": {
        "id": "BhvUv2_vSdM1",
        "colab_type": "code",
        "colab": {}
      },
      "source": [
        "def tokenize(embed_lookup, all_words):\n",
        "        \n",
        "    tokenized = []\n",
        "    for element in all_words:\n",
        "        temp = []\n",
        "        for word in element:\n",
        "            try:\n",
        "                tok = embed_lookup.vocab[word].index\n",
        "            except: \n",
        "                tok = 0\n",
        "            temp.append(tok)\n",
        "        tokenized.append(temp)\n",
        "    \n",
        "    return tokenized"
      ],
      "execution_count": 0,
      "outputs": []
    },
    {
      "cell_type": "code",
      "metadata": {
        "id": "aJoaYjJyUlZj",
        "colab_type": "code",
        "colab": {}
      },
      "source": [
        "tokenized_train = tokenize(embed_lookup,all_words_train)\n",
        "tokenized_test = tokenize(embed_lookup,all_words_test)"
      ],
      "execution_count": 0,
      "outputs": []
    },
    {
      "cell_type": "markdown",
      "metadata": {
        "id": "ZWMFA6RXIVJt",
        "colab_type": "text"
      },
      "source": [
        "**Finding the optimal Length of Vectors**\n",
        "\n",
        "---\n",
        "\n"
      ]
    },
    {
      "cell_type": "code",
      "metadata": {
        "id": "4XvlG19cVWvH",
        "colab_type": "code",
        "outputId": "da747755-266a-44e3-d9b3-ea8a6b52055e",
        "colab": {
          "base_uri": "https://localhost:8080/",
          "height": 52
        }
      },
      "source": [
        "count = [0,0,0,0,0,0]\n",
        "for line in tokenized_train:\n",
        "    length = len(line)\n",
        "    if length<50:\n",
        "        count[0]+=1\n",
        "    elif length<100:\n",
        "        count[1]+=1\n",
        "    elif length<150:\n",
        "        count[2]+=1\n",
        "    elif length<200:\n",
        "        count[3]+=1\n",
        "    elif length<250:\n",
        "        count[4]+=1\n",
        "    else:\n",
        "        count[5]+=1\n",
        "\n",
        "print(count)\n",
        "print(\"Most of the lines thus have less than 150 words, suitable seq_len for truncation\")\n"
      ],
      "execution_count": 0,
      "outputs": [
        {
          "output_type": "stream",
          "text": [
            "[111387, 8424, 183, 6, 0, 0]\n",
            "Most of the lines thus have less than 150 words, suitable seq_len for truncation\n"
          ],
          "name": "stdout"
        }
      ]
    },
    {
      "cell_type": "markdown",
      "metadata": {
        "id": "C2C9DB62JPSj",
        "colab_type": "text"
      },
      "source": [
        "**Padding and Truncating Vectors**\n",
        "\n",
        "---\n",
        "\n"
      ]
    },
    {
      "cell_type": "code",
      "metadata": {
        "id": "zxsZFjzWXmIr",
        "colab_type": "code",
        "colab": {}
      },
      "source": [
        "#convert vectors to same size by padding short ones, and truncating larger ones\n",
        "def pad_and_truncate(tokenized,length):\n",
        "    feature_vectors = np.zeros((len(tokenized), length), dtype=int)\n",
        "\n",
        " \n",
        "    for index, row in enumerate(tokenized):\n",
        "        feature_vectors[index, -len(row):] = np.array(row)[:length]\n",
        "    \n",
        "    return feature_vectors"
      ],
      "execution_count": 0,
      "outputs": []
    },
    {
      "cell_type": "code",
      "metadata": {
        "id": "7npBHqO2YMZt",
        "colab_type": "code",
        "colab": {}
      },
      "source": [
        "train_feature_vectors = pad_and_truncate(tokenized_train,150)\n",
        "test_feature_vectors = pad_and_truncate(tokenized_test,150)"
      ],
      "execution_count": 0,
      "outputs": []
    },
    {
      "cell_type": "code",
      "metadata": {
        "id": "ClWdEIGmo09s",
        "colab_type": "code",
        "colab": {}
      },
      "source": [
        "#converting arrays containing information about class labels to numpy arrays\n",
        "labels_train = np.array(labels_list_train)\n",
        "labels_test = np.array(labels_list_test)\n"
      ],
      "execution_count": 0,
      "outputs": []
    },
    {
      "cell_type": "markdown",
      "metadata": {
        "id": "rP-q3Ep4JsIz",
        "colab_type": "text"
      },
      "source": [
        "**Training, Validation and Test Sets**\n",
        "\n",
        "---\n",
        "\n"
      ]
    },
    {
      "cell_type": "code",
      "metadata": {
        "id": "VlBed291-2lM",
        "colab_type": "code",
        "outputId": "2ab5f19c-d2f9-4307-f832-00dc1e1edbb5",
        "colab": {
          "base_uri": "https://localhost:8080/",
          "height": 87
        }
      },
      "source": [
        "spl_idx = 100000\n",
        "\n",
        "train_set, val_set = train_feature_vectors[:spl_idx], train_feature_vectors[spl_idx:]\n",
        "train_labels, val_labels = labels_train[:spl_idx], labels_train[spl_idx:]\n",
        "test_set = test_feature_vectors\n",
        "test_labels = labels_test\n",
        "\n",
        "print(\"\\t\\t\\tFeature Shapes:\")\n",
        "print(\"Train set: \\t\\t{}\".format(train_set.shape), \n",
        "      \"\\nValidation set: \\t{}\".format(val_set.shape),\n",
        "      \"\\nTest set: \\t\\t{}\".format(test_set.shape))"
      ],
      "execution_count": 0,
      "outputs": [
        {
          "output_type": "stream",
          "text": [
            "\t\t\tFeature Shapes:\n",
            "Train set: \t\t(100000, 150) \n",
            "Validation set: \t(20000, 150) \n",
            "Test set: \t\t(7600, 150)\n"
          ],
          "name": "stdout"
        }
      ]
    },
    {
      "cell_type": "markdown",
      "metadata": {
        "id": "quJO8V0gK1OL",
        "colab_type": "text"
      },
      "source": [
        "**Loading the Dataset**: To be fed into the Network\n",
        "\n",
        "---\n",
        "\n"
      ]
    },
    {
      "cell_type": "code",
      "metadata": {
        "id": "yIN1xp_REqKt",
        "colab_type": "code",
        "colab": {}
      },
      "source": [
        "train_data = TensorDataset(torch.from_numpy(train_set), torch.from_numpy(train_labels))\n",
        "validation_data = TensorDataset(torch.from_numpy(val_set), torch.from_numpy(val_labels))\n",
        "test_data = TensorDataset(torch.from_numpy(test_set), torch.from_numpy(test_labels))\n",
        "\n",
        "batch_size = 128 # to match charCNN \n",
        "\n",
        "train_loader = DataLoader(train_data, shuffle=True, batch_size=batch_size)\n",
        "validation_loader = DataLoader(validation_data, shuffle=True, batch_size=batch_size)\n",
        "test_loader = DataLoader(test_data, shuffle=False, batch_size=batch_size)"
      ],
      "execution_count": 0,
      "outputs": []
    },
    {
      "cell_type": "code",
      "metadata": {
        "id": "j4qrmcmLFLYZ",
        "colab_type": "code",
        "outputId": "60485720-d96b-42ce-9632-23b2e4f5db22",
        "colab": {
          "base_uri": "https://localhost:8080/",
          "height": 35
        }
      },
      "source": [
        "train_on_gpu=torch.cuda.is_available()\n",
        "\n",
        "if(train_on_gpu):\n",
        "    print('Training on GPU.')\n",
        "else:\n",
        "    print('No GPU available, training on CPU.')"
      ],
      "execution_count": 0,
      "outputs": [
        {
          "output_type": "stream",
          "text": [
            "Training on GPU.\n"
          ],
          "name": "stdout"
        }
      ]
    },
    {
      "cell_type": "markdown",
      "metadata": {
        "id": "GdxrwT4BLBpl",
        "colab_type": "text"
      },
      "source": [
        "**Defining The Network**\n",
        "\n",
        "---\n",
        "\n"
      ]
    },
    {
      "cell_type": "code",
      "metadata": {
        "id": "HtYi6EPHCmer",
        "colab_type": "code",
        "colab": {}
      },
      "source": [
        "class WordCNN(nn.Module):\n",
        "    def __init__(self, embed_model, input_dim, n_conv_filters, n_fc_neurons, embedding_dim = 300, n_classes=4, input_length=150):\n",
        "\n",
        "        super(WordCNN, self).__init__()\n",
        "\n",
        "        # 1. embedding layer\n",
        "        self.embedding = nn.Embedding(input_dim, embedding_dim)\n",
        "        # set weights to pre-trained\n",
        "        self.embedding.weight = nn.Parameter(torch.from_numpy(embed_model.vectors))\n",
        "\n",
        "        self.conv1 = nn.Conv1d(embedding_dim, n_conv_filters, kernel_size=7, padding=0)\n",
        "        self.conv2 = nn.Conv1d(n_conv_filters, n_conv_filters, kernel_size=7, padding=0)\n",
        "        self.conv3 = nn.Conv1d(n_conv_filters, n_conv_filters, kernel_size=3, padding=0)\n",
        "        self.conv4 = nn.Conv1d(n_conv_filters, n_conv_filters, kernel_size=3, padding=0)\n",
        "        self.conv5 = nn.Conv1d(n_conv_filters, n_conv_filters, kernel_size=3, padding=0)\n",
        "        self.conv6 = nn.Conv1d(n_conv_filters, n_conv_filters, kernel_size=3, padding=0)\n",
        "\n",
        "        dimension = int(((input_length - 96) / 27) * n_conv_filters) # since the stride used for max_pool is 3 and not 1!!!\n",
        "        #dimension = 8704\n",
        "        self.fc1 = nn.Linear(dimension, n_fc_neurons)   \n",
        "        self.fc2 = nn.Linear(n_fc_neurons, n_fc_neurons)\n",
        "        self.out = nn.Linear(n_fc_neurons, n_classes)\n",
        "\n",
        "        if n_conv_filters == 256 and n_fc_neurons == 1024:\n",
        "            self._create_weights(mean=0.0, std=0.05)\n",
        "        elif n_conv_filters == 1024 and n_fc_neurons == 2048:\n",
        "            self._create_weights(mean=0.0, std=0.02)\n",
        "\n",
        "    def _create_weights(self, mean=0.0, std=0.05):\n",
        "        for module in self.modules():\n",
        "            if isinstance(module, nn.Conv1d) or isinstance(module, nn.Linear):\n",
        "                module.weight.data.normal_(mean, std)\n",
        "                \n",
        "       \n",
        "    \n",
        "    def forward(self, t):\n",
        "        #define input layer\n",
        "        t = self.embedding(t) \n",
        "        t = t.transpose(1, 2) \n",
        "        \n",
        "        #define hidden layers\n",
        "\n",
        "        #convolution layers #1\n",
        "        t = self.conv1(t)\n",
        "        t = F.relu(t)\n",
        "        t = F.max_pool1d(t,3)\n",
        "        \n",
        "        #2\n",
        "        t = self.conv2(t)\n",
        "        t = F.relu(t)\n",
        "        t = F.max_pool1d(t,3)\n",
        "       \n",
        "        #3\n",
        "        t = self.conv3(t)\n",
        "        t = F.relu(t)\n",
        "        \n",
        "        #4\n",
        "        t = self.conv4(t)\n",
        "        t = F.relu(t)\n",
        "\n",
        "        #5\n",
        "        t = self.conv5(t)\n",
        "        t = F.relu(t)\n",
        "        \n",
        "        #6\n",
        "        t = self.conv6(t)\n",
        "        t = F.relu(t)\n",
        "        t = F.max_pool1d(t,3)\n",
        "        #F.max_pool1d\n",
        "\n",
        "       \n",
        "        \n",
        "        #Fully_Connected Layers\n",
        "        t = t.view(t.size(0), -1)\n",
        "        # t = t.reshape(-1, 65536) #to define the size for fully connected layers\n",
        "\n",
        "        t = self.fc1(t)\n",
        "        t = F.dropout(t,0.5)\n",
        "\n",
        "        t = self.fc2(t)\n",
        "        t = F.dropout(t,0.5)\n",
        "       \n",
        "        t = self.out(t)\n",
        "        \n",
        "        #t = F.softmax(t,dim = 1) #check the dimension according to the size!!!\n",
        "        #not applied softmax because in the input of crossentropy loss function, it automatically takes the softmax of every input!!!\n",
        "        return t"
      ],
      "execution_count": 0,
      "outputs": []
    },
    {
      "cell_type": "markdown",
      "metadata": {
        "id": "Ba5RG_MmLJu_",
        "colab_type": "text"
      },
      "source": [
        "**Initialising the Network**\n",
        "\n",
        "---\n",
        "\n",
        "\n",
        "(Choose between training on Small Features v/s Large Features)"
      ]
    },
    {
      "cell_type": "code",
      "metadata": {
        "id": "9qQIa47BIfWt",
        "colab_type": "code",
        "outputId": "bccaedc9-d25b-4708-96ee-b2d9678d8548",
        "colab": {
          "base_uri": "https://localhost:8080/",
          "height": 225
        }
      },
      "source": [
        "vocab_size = len(embedded_words)\n",
        "output_size = 4\n",
        "embedding_dim = len(embed_lookup[embedded_words[0]]) # 300-dim vectors\n",
        "\n",
        "n_conv_filters_small = 256\n",
        "n_conv_filters_large = 1024\n",
        "n_fc_neurons_small = 1024\n",
        "n_fc_neurons_large = 2048\n",
        "\n",
        "# Uncomment for training on small feature\n",
        "# model = WordCNN(embed_lookup, vocab_size, n_conv_filters_small, n_fc_neurons_small, embedding_dim,)\n",
        "\n",
        "# Uncomment for training on large feature\n",
        "model = WordCNN(embed_lookup, vocab_size, n_conv_filters_large, n_fc_neurons_large, embedding_dim)\n",
        "\n",
        "print(model)"
      ],
      "execution_count": 0,
      "outputs": [
        {
          "output_type": "stream",
          "text": [
            "WordCNN(\n",
            "  (embedding): Embedding(3000000, 300)\n",
            "  (conv1): Conv1d(300, 1024, kernel_size=(7,), stride=(1,))\n",
            "  (conv2): Conv1d(1024, 1024, kernel_size=(7,), stride=(1,))\n",
            "  (conv3): Conv1d(1024, 1024, kernel_size=(3,), stride=(1,))\n",
            "  (conv4): Conv1d(1024, 1024, kernel_size=(3,), stride=(1,))\n",
            "  (conv5): Conv1d(1024, 1024, kernel_size=(3,), stride=(1,))\n",
            "  (conv6): Conv1d(1024, 1024, kernel_size=(3,), stride=(1,))\n",
            "  (fc1): Linear(in_features=2048, out_features=2048, bias=True)\n",
            "  (fc2): Linear(in_features=2048, out_features=2048, bias=True)\n",
            "  (out): Linear(in_features=2048, out_features=4, bias=True)\n",
            ")\n"
          ],
          "name": "stdout"
        }
      ]
    },
    {
      "cell_type": "code",
      "metadata": {
        "id": "CiGXNqUlJ0vV",
        "colab_type": "code",
        "colab": {}
      },
      "source": [
        "criterion = nn.CrossEntropyLoss()\n",
        "optimizer = torch.optim.SGD(model.parameters(), lr = 0.01) "
      ],
      "execution_count": 0,
      "outputs": []
    },
    {
      "cell_type": "markdown",
      "metadata": {
        "id": "0dzq8ZfALeOH",
        "colab_type": "text"
      },
      "source": [
        "**Function to Compute Accuracy**\n",
        "\n",
        "---\n",
        "\n"
      ]
    },
    {
      "cell_type": "code",
      "metadata": {
        "id": "g3V9Hiw-CXTh",
        "colab_type": "code",
        "colab": {}
      },
      "source": [
        "def get_accuracy(y_true, y_pred):\n",
        "    y_pred = np.argmax(y_pred, -1)\n",
        "    output = {}\n",
        "    output['accuracy'] = metrics.accuracy_score(y_true, y_pred)\n",
        "    return output"
      ],
      "execution_count": 0,
      "outputs": []
    },
    {
      "cell_type": "markdown",
      "metadata": {
        "id": "WxiqrO_JPILM",
        "colab_type": "text"
      },
      "source": [
        "**Training**\n",
        "\n",
        "---\n",
        "\n"
      ]
    },
    {
      "cell_type": "code",
      "metadata": {
        "id": "ISB2K-8Kpfjz",
        "colab_type": "code",
        "colab": {}
      },
      "source": [
        "def train(net, train_loader, valid_loader, epochs, val_set_len, criterion, optimizer):\n",
        "\n",
        "    if torch.cuda.is_available():\n",
        "        torch.cuda.manual_seed(123)\n",
        "    else:\n",
        "        torch.manual_seed(123)\n",
        "\n",
        "    # move model to GPU, if available\n",
        "    if(train_on_gpu):\n",
        "        net.cuda()\n",
        "    \n",
        "    # train for some number of epochs\n",
        "    net.train()\n",
        "\n",
        "    train_loss_plot = []\n",
        "    loss_plot = []\n",
        "    epoch_plot = []     \n",
        "    for e in range(epochs):\n",
        "        # batch loop\n",
        "        for features, labels in train_loader:\n",
        "\n",
        "            if(train_on_gpu):\n",
        "                features, labels = features.cuda(), labels.cuda()\n",
        "\n",
        "            net.zero_grad()\n",
        "\n",
        "            # get the output from the model\n",
        "            output = net(features)\n",
        "\n",
        "            # calculate the loss and perform backprop\n",
        "            loss = criterion(output, labels)\n",
        "            loss.backward()\n",
        "            optimizer.step()\n",
        "\n",
        "            train_accuracy = get_accuracy(labels.cpu().numpy(), output.cpu().detach().numpy())\n",
        "            \n",
        "        net.eval()\n",
        "        loss_ls = []\n",
        "        val_label_ls = []\n",
        "        val_pred_ls = []\n",
        "\n",
        "        for batch in valid_loader:\n",
        "            val_feature, val_label = batch\n",
        "            num_sample = len(val_label)\n",
        "            if torch.cuda.is_available():\n",
        "                val_feature = val_feature.cuda()\n",
        "                val_label = val_label.cuda()\n",
        "            with torch.no_grad():\n",
        "                val_predictions = net(val_feature)\n",
        "            val_loss = criterion(val_predictions, val_label)\n",
        "    \n",
        "            loss_ls.append(val_loss * num_sample)\n",
        "            \n",
        "            val_label_ls.extend(val_label.clone().cpu())\n",
        "            val_pred_ls.append(val_predictions.clone().cpu())\n",
        "\n",
        "        val_loss = sum(loss_ls) / val_set_len\n",
        "\n",
        "        loss_plot.append(val_loss)\n",
        "        epoch_plot.append(e)\n",
        "        train_loss_plot.append(loss)\n",
        "\n",
        "        val_pred = torch.cat(val_pred_ls, 0)\n",
        "        val_label = np.array(val_label_ls)\n",
        "\n",
        "        val_accuracy = get_accuracy(val_label, val_pred.numpy())\n",
        "            \n",
        "        print(\"Epoch: {}/{}..... Lr: {}.... Validation Loss: {}..... Validation Accuracy: {}\".format(\n",
        "                e + 1,\n",
        "                epochs,\n",
        "                optimizer.param_groups[0]['lr'],\n",
        "                val_loss, val_accuracy))\n",
        "        \n",
        "        if e % 3 == 0 and e > 0:\n",
        "            current_lr = optimizer.state_dict()['param_groups'][0]['lr']\n",
        "            current_lr /= 2\n",
        "            for param_group in optimizer.param_groups:\n",
        "               param_group['lr'] = current_lr\n",
        "\n",
        "\n",
        "    return train_loss_plot, loss_plot, epoch_plot;\n"
      ],
      "execution_count": 0,
      "outputs": []
    },
    {
      "cell_type": "code",
      "metadata": {
        "id": "SH48dK8aptS-",
        "colab_type": "code",
        "outputId": "24055479-01a2-4179-ed26-71e1d18afa0e",
        "colab": {
          "base_uri": "https://localhost:8080/",
          "height": 277
        }
      },
      "source": [
        "epochs = 15\n",
        "\n",
        "train_loss_plot, loss_plot, epoch_plot = train(model, train_loader, validation_loader, epochs, test_data.__len__(), criterion, optimizer)"
      ],
      "execution_count": 0,
      "outputs": [
        {
          "output_type": "stream",
          "text": [
            "Epoch: 1/15..... Lr: 0.01.... Validation Loss: 1.969560146331787..... Validation Accuracy: {'accuracy': 0.68785}\n",
            "Epoch: 2/15..... Lr: 0.01.... Validation Loss: 1.4672366380691528..... Validation Accuracy: {'accuracy': 0.789}\n",
            "Epoch: 3/15..... Lr: 0.01.... Validation Loss: 0.8914090394973755..... Validation Accuracy: {'accuracy': 0.87765}\n",
            "Epoch: 4/15..... Lr: 0.01.... Validation Loss: 0.9078297019004822..... Validation Accuracy: {'accuracy': 0.87675}\n",
            "Epoch: 5/15..... Lr: 0.005.... Validation Loss: 0.9174632430076599..... Validation Accuracy: {'accuracy': 0.8747}\n",
            "Epoch: 6/15..... Lr: 0.005.... Validation Loss: 0.8203669190406799..... Validation Accuracy: {'accuracy': 0.88885}\n",
            "Epoch: 7/15..... Lr: 0.005.... Validation Loss: 0.8637486100196838..... Validation Accuracy: {'accuracy': 0.8822}\n",
            "Epoch: 8/15..... Lr: 0.0025.... Validation Loss: 0.7933095097541809..... Validation Accuracy: {'accuracy': 0.89225}\n",
            "Epoch: 9/15..... Lr: 0.0025.... Validation Loss: 0.8388317227363586..... Validation Accuracy: {'accuracy': 0.88575}\n",
            "Epoch: 10/15..... Lr: 0.0025.... Validation Loss: 0.8349573612213135..... Validation Accuracy: {'accuracy': 0.88725}\n",
            "Epoch: 11/15..... Lr: 0.00125.... Validation Loss: 0.8164682984352112..... Validation Accuracy: {'accuracy': 0.889}\n",
            "Epoch: 12/15..... Lr: 0.00125.... Validation Loss: 0.7862999439239502..... Validation Accuracy: {'accuracy': 0.89525}\n",
            "Epoch: 13/15..... Lr: 0.00125.... Validation Loss: 0.808436393737793..... Validation Accuracy: {'accuracy': 0.8921}\n",
            "Epoch: 14/15..... Lr: 0.000625.... Validation Loss: 0.7860501408576965..... Validation Accuracy: {'accuracy': 0.89445}\n",
            "Epoch: 15/15..... Lr: 0.000625.... Validation Loss: 0.7882291078567505..... Validation Accuracy: {'accuracy': 0.895}\n"
          ],
          "name": "stdout"
        }
      ]
    },
    {
      "cell_type": "markdown",
      "metadata": {
        "id": "q66FKDQXNXh_",
        "colab_type": "text"
      },
      "source": [
        "**Validation Loss Graph**\n",
        "\n",
        "---\n",
        "\n"
      ]
    },
    {
      "cell_type": "code",
      "metadata": {
        "id": "ekv-Yc935UBj",
        "colab_type": "code",
        "outputId": "2e3971c4-a3c8-4593-c387-a8003cdf5aec",
        "colab": {
          "base_uri": "https://localhost:8080/",
          "height": 404
        }
      },
      "source": [
        "test = plt.figure(figsize=(6,6))\n",
        "plt.plot(epoch_plot, loss_plot,label='Validation loss')\n",
        "# plt.plot(epoch_plot, train_loss_plot, label='Training loss')\n",
        "plt.xlabel('epoch')\n",
        "plt.ylabel('validation loss')\n",
        "plt.title('loss graph')\n",
        "plt.legend()\n",
        "test.show()"
      ],
      "execution_count": 0,
      "outputs": [
        {
          "output_type": "display_data",
          "data": {
            "image/png": "[encoded data removed]",
            "text/plain": [
              "<Figure size 432x432 with 1 Axes>"
            ]
          },
          "metadata": {
            "tags": [],
            "needs_background": "light"
          }
        }
      ]
    },
    {
      "cell_type": "code",
      "metadata": {
        "id": "9kBnxKoU5dFb",
        "colab_type": "code",
        "colab": {}
      },
      "source": [
        "cm_savepath = '/content/drive/My Drive/NNFL_PROJ/SCREENSHOTS/WordCNN/'\n",
        "test.savefig(cm_savepath+ 'loss_15epochs_large_author.png')"
      ],
      "execution_count": 0,
      "outputs": []
    },
    {
      "cell_type": "markdown",
      "metadata": {
        "id": "zLschwN0Dang",
        "colab_type": "text"
      },
      "source": [
        "**Test Function**\n",
        "\n",
        "---\n",
        "\n"
      ]
    },
    {
      "cell_type": "code",
      "metadata": {
        "id": "4B8EdRJZBRKy",
        "colab_type": "code",
        "outputId": "2cc364c3-ba16-4a8b-a911-ff6fa6d50479",
        "colab": {
          "base_uri": "https://localhost:8080/",
          "height": 329
        }
      },
      "source": [
        "model.eval()\n",
        "\n",
        "loss_ls = []\n",
        "te_label_ls = []\n",
        "te_pred_ls = []\n",
        "for batch in test_loader:\n",
        "    te_feature, te_label = batch\n",
        "    num_sample = len(te_label)\n",
        "    if torch.cuda.is_available():\n",
        "        te_feature = te_feature.cuda()\n",
        "        te_label = te_label.cuda()\n",
        "    with torch.no_grad():\n",
        "        te_predictions = model(te_feature)\n",
        "        #print(te_predictions.argmax(dim=1))\n",
        "    te_loss = criterion(te_predictions, te_label)\n",
        "    loss_ls.append(te_loss * num_sample)\n",
        "    te_label_ls.extend(te_label.clone().cpu())\n",
        "    te_pred_ls.append(te_predictions.clone().cpu())\n",
        "\n",
        "te_loss = sum(loss_ls) / test_set.__len__()\n",
        "te_pred = torch.cat(te_pred_ls, 0)\n",
        "te_label = np.array(te_label_ls)\n",
        "\n",
        "test_accuracy = get_accuracy(te_label,te_pred.numpy())  \n",
        "      \n",
        "print(\"Epoch: {}/{}.... Lr: {}.... Loss: {}..... Accuracy: {}\".format(\n",
        "            2,\n",
        "            2,\n",
        "            optimizer.param_groups[0]['lr'],\n",
        "            te_loss, test_accuracy)\n",
        ")\n",
        "\n",
        "cm = confusion_matrix(te_label, te_pred.argmax(dim=1))\n",
        "print(\"raw form of confusion matrix\")\n",
        "print(cm)\n",
        "\n",
        "print(\"Classification Report\")\n",
        "target_names = ['World','Sports','Business','Sci/Tech']\n",
        "print(classification_report(te_label, te_pred.argmax(dim=1), target_names=target_names))"
      ],
      "execution_count": 0,
      "outputs": [
        {
          "output_type": "stream",
          "text": [
            "Epoch: 2/2.... Lr: 0.000625.... Loss: 0.3092607259750366..... Accuracy: {'accuracy': 0.8936842105263157}\n",
            "raw form of confusion matrix\n",
            "[[1692   61   79   68]\n",
            " [  27 1842   13   18]\n",
            " [  67   25 1593  215]\n",
            " [  54   21  160 1665]]\n",
            "Classification Report\n",
            "              precision    recall  f1-score   support\n",
            "\n",
            "       World       0.92      0.89      0.90      1900\n",
            "      Sports       0.95      0.97      0.96      1900\n",
            "    Business       0.86      0.84      0.85      1900\n",
            "    Sci/Tech       0.85      0.88      0.86      1900\n",
            "\n",
            "    accuracy                           0.89      7600\n",
            "   macro avg       0.89      0.89      0.89      7600\n",
            "weighted avg       0.89      0.89      0.89      7600\n",
            "\n"
          ],
          "name": "stdout"
        }
      ]
    },
    {
      "cell_type": "markdown",
      "metadata": {
        "id": "L9q__3BgDfG_",
        "colab_type": "text"
      },
      "source": [
        "**Prediction Results**\n",
        "\n",
        "---\n",
        "\n"
      ]
    },
    {
      "cell_type": "code",
      "metadata": {
        "id": "CqmfYKo8CB76",
        "colab_type": "code",
        "outputId": "b3deab2d-b1ca-4fbf-bf5d-d44b6c29ad0c",
        "colab": {
          "base_uri": "https://localhost:8080/",
          "height": 87
        }
      },
      "source": [
        "te_pred_softmax = F.softmax(te_pred, dim=1)\n",
        "pred = te_pred_softmax.argmax(dim=1)\n",
        "print(\"Results predicted from model....\")\n",
        "print(pred[0:20])\n",
        "print(\"Actual labels....\")\n",
        "print(te_label[0:20])"
      ],
      "execution_count": 0,
      "outputs": [
        {
          "output_type": "stream",
          "text": [
            "Results predicted from model....\n",
            "tensor([2, 3, 3, 3, 3, 3, 3, 3, 3, 3, 3, 3, 3, 3, 3, 3, 3, 3, 3, 3])\n",
            "Actual labels....\n",
            "[2 3 3 3 3 3 3 3 3 3 3 3 3 3 3 3 3 3 3 3]\n"
          ],
          "name": "stdout"
        }
      ]
    },
    {
      "cell_type": "markdown",
      "metadata": {
        "id": "ty34zMhgDkF_",
        "colab_type": "text"
      },
      "source": [
        "**Confusion Matrix**\n",
        "\n",
        "---\n",
        "\n"
      ]
    },
    {
      "cell_type": "code",
      "metadata": {
        "id": "-FkN342ACpPe",
        "colab_type": "code",
        "colab": {}
      },
      "source": [
        "def plot_confusion_matrix(cm, classes, normalize=False, title='Confusion matrix', cmap=plt.cm.Blues):\n",
        "    if normalize:\n",
        "        cm = cm.astype('float') / cm.sum(axis=1)[:, np.newaxis]\n",
        "        print(\"Normalized confusion matrix\")\n",
        "    else:\n",
        "        print('Confusion matrix, without normalization')\n",
        "\n",
        "    print(cm)\n",
        "    plt.imshow(cm, interpolation='nearest', cmap=cmap)\n",
        "    plt.title(title)\n",
        "    plt.colorbar()\n",
        "    tick_marks = np.arange(len(classes))\n",
        "    plt.xticks(tick_marks, classes, rotation=45)\n",
        "    plt.yticks(tick_marks, classes)\n",
        "\n",
        "    fmt = '.2f' if normalize else 'd'\n",
        "    thresh = cm.max() / 2.\n",
        "    for i, j in itertools.product(range(cm.shape[0]), range(cm.shape[1])):\n",
        "        plt.text(j, i, format(cm[i, j], fmt), horizontalalignment=\"center\", color=\"white\" if cm[i, j] > thresh else \"black\")\n",
        "\n",
        "    plt.tight_layout()\n",
        "    plt.ylabel('True label')\n",
        "    plt.xlabel('Predicted label')"
      ],
      "execution_count": 0,
      "outputs": []
    },
    {
      "cell_type": "code",
      "metadata": {
        "id": "SeRCrgXK5_yC",
        "colab_type": "code",
        "outputId": "ade908ae-8d89-4931-bdb9-919940fc9f08",
        "colab": {
          "base_uri": "https://localhost:8080/",
          "height": 542
        }
      },
      "source": [
        "cm = confusion_matrix(labels_test, te_pred.argmax(dim=1))\n",
        "#print(type(cm))\n",
        "#cm\n",
        "names = (\n",
        "    'World',\n",
        "'Sports',\n",
        "'Business',\n",
        "'Sci/Tech'\n",
        ")\n",
        "plt.figure(figsize=(8,6))\n",
        "\n",
        "Title = 'Confusion Matrix_10epochs'\n",
        "plot_confusion_matrix(cm, names,title = Title)\n",
        "\n",
        "cm_savepath = '/content/drive/My Drive/NNFL_PROJ/SCREENSHOTS/WordCNN/'\n",
        "plt.savefig(cm_savepath+ 'cm_15epochs_large_author.png')"
      ],
      "execution_count": 0,
      "outputs": [
        {
          "output_type": "stream",
          "text": [
            "Confusion matrix, without normalization\n",
            "[[1692   61   79   68]\n",
            " [  27 1842   13   18]\n",
            " [  67   25 1593  215]\n",
            " [  54   21  160 1665]]\n"
          ],
          "name": "stdout"
        },
        {
          "output_type": "display_data",
          "data": {
            "image/png": "[encoded data removed]",
            "text/plain": [
              "<Figure size 576x432 with 2 Axes>"
            ]
          },
          "metadata": {
            "tags": [],
            "needs_background": "light"
          }
        }
      ]
    },
    {
      "cell_type": "markdown",
      "metadata": {
        "id": "Ned-XA9gEdhl",
        "colab_type": "text"
      },
      "source": [
        "**Predict Class of Random News Sample**\n",
        "\n",
        "---\n",
        "\n"
      ]
    },
    {
      "cell_type": "code",
      "metadata": {
        "id": "OhT6HDkpDPLB",
        "colab_type": "code",
        "colab": {}
      },
      "source": [
        "def predict(embed_lookup, net , test_news, sequence_length=150):\n",
        "\n",
        "    net.eval()\n",
        "    \n",
        "    # tokenize review\n",
        "    test_ints = tokenize_news(embed_lookup, test_news)\n",
        "    \n",
        "    # pad/truncate tokenized sequence\n",
        "    seq_length=sequence_length\n",
        "    features = pad_and_truncate([test_ints], seq_length)\n",
        "    \n",
        "    # convert to tensor to pass into your model\n",
        "    feature_tensor = torch.from_numpy(features)\n",
        "    \n",
        "    batch_size = feature_tensor.size(0)\n",
        "    \n",
        "    if(train_on_gpu):\n",
        "        feature_tensor = feature_tensor.cuda()\n",
        "    \n",
        "    # get the output from the model\n",
        "    output = net(feature_tensor) #use feature_tensor.unsqueeze(0) if not working\n",
        "    \n",
        "    # convert output to find the maximum index as done by softmax\n",
        "    te_pred_softmax = F.softmax(output, dim=1)\n",
        "    pred = te_pred_softmax.argmax(dim=1)\n",
        "    \n",
        "    if(pred.item()==0):\n",
        "        print(\"World news detected!\")\n",
        "    elif(pred.item()==1):\n",
        "        print(\"Sports news detected!\")\n",
        "    elif(pred.item()==2):\n",
        "        print(\"Business news detected!\")\n",
        "    elif (pred.item()==3):\n",
        "        print(\"Sci/Tech news detected!\")"
      ],
      "execution_count": 0,
      "outputs": []
    },
    {
      "cell_type": "code",
      "metadata": {
        "id": "amfeR-pKKd9x",
        "colab_type": "code",
        "colab": {}
      },
      "source": [
        "# helper function to process and tokenize a single review\n",
        "def tokenize_news(embed_lookup, test_news):\n",
        "    \n",
        "    test_text = ''.join([c for c in test_news if c not in punctuation])\n",
        "    test_words = test_text.split()\n",
        "\n",
        "    tokenized_review = []\n",
        "    for word in test_words:\n",
        "        try:\n",
        "            idx = embed_lookup.vocab[word].index\n",
        "        except: \n",
        "            idx = 0\n",
        "        tokenized_review.append(idx)\n",
        "\n",
        "    return tokenized_review"
      ],
      "execution_count": 0,
      "outputs": []
    },
    {
      "cell_type": "code",
      "metadata": {
        "id": "WjGRMlFlPR3Z",
        "colab_type": "code",
        "colab": {}
      },
      "source": [
        "seq_length = 150"
      ],
      "execution_count": 0,
      "outputs": []
    },
    {
      "cell_type": "code",
      "metadata": {
        "id": "4euxgdxnNVKc",
        "colab_type": "code",
        "outputId": "86a4b0ed-9ad7-4df2-dd48-f9eadc68a162",
        "colab": {
          "base_uri": "https://localhost:8080/",
          "height": 35
        }
      },
      "source": [
        "line =  'LOS ANGELES (Reuters) - A group of technology companies  including Texas Instruments Inc. &lt;TXN.N&gt;, STMicroelectronics  &lt;STM.PA&gt; and Broadcom Corp. &lt;BRCM.O&gt;, on Thursday said they  will propose a new wireless networking standard up to 10 times  the speed of the current generation.'\n",
        "line = line.lower()\n",
        "predict(embed_lookup, model, line, seq_length)"
      ],
      "execution_count": 0,
      "outputs": [
        {
          "output_type": "stream",
          "text": [
            "Sci/Tech news detected!\n"
          ],
          "name": "stdout"
        }
      ]
    },
    {
      "cell_type": "code",
      "metadata": {
        "id": "pfXuNmbXOVSz",
        "colab_type": "code",
        "outputId": "a73dba69-9a50-485f-b2c5-12f165cfe4a5",
        "colab": {
          "base_uri": "https://localhost:8080/",
          "height": 35
        }
      },
      "source": [
        "line = 'The Cleveland Indians pulled within one game of the AL Central lead by beating the Minnesota Twins, 7-1, Saturday night with home runs by Travis Hafner and Victor Martinez.'\n",
        "line = line.lower()\n",
        "predict(embed_lookup, model, line, seq_length)"
      ],
      "execution_count": 0,
      "outputs": [
        {
          "output_type": "stream",
          "text": [
            "Sports news detected!\n"
          ],
          "name": "stdout"
        }
      ]
    },
    {
      "cell_type": "code",
      "metadata": {
        "id": "WGOofnTfOp1C",
        "colab_type": "code",
        "outputId": "3da12614-51b2-4555-b708-6dbf4e8d1f3a",
        "colab": {
          "base_uri": "https://localhost:8080/",
          "height": 35
        }
      },
      "source": [
        "line = 'BEIJING (Reuters) - Beijing on Monday accused a  Chinese-American arrested for spying for Taiwan of building an  espionage network in the United States, and said he could go on  trial very soon.'\n",
        "line = line.lower()\n",
        "predict(embed_lookup, model, line, seq_length)"
      ],
      "execution_count": 0,
      "outputs": [
        {
          "output_type": "stream",
          "text": [
            "World news detected!\n"
          ],
          "name": "stdout"
        }
      ]
    },
    {
      "cell_type": "code",
      "metadata": {
        "id": "ARFab-oFO3tO",
        "colab_type": "code",
        "outputId": "8da94157-59a6-4873-e981-6cb39562a20a",
        "colab": {
          "base_uri": "https://localhost:8080/",
          "height": 35
        }
      },
      "source": [
        "line = 'HONG KONG (Dow Jones)--China Mobile (Hong Kong) Ltd. (CHL), the listed unit of China #39;s biggest cellular phone operator, posted Wednesday a 7.8 rise in first-half net profit on a 23 increase in its subscriber base. '\n",
        "line = line.lower()\n",
        "predict(embed_lookup, model, line, seq_length)"
      ],
      "execution_count": 0,
      "outputs": [
        {
          "output_type": "stream",
          "text": [
            "Business news detected!\n"
          ],
          "name": "stdout"
        }
      ]
    }
  ]
}