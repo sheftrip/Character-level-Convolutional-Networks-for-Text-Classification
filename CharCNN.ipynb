{
  "nbformat": 4,
  "nbformat_minor": 0,
  "metadata": {
    "colab": {
      "name": "Copy of make_edits_NNFLProject_small_author_15epochsNochange.ipynb",
      "provenance": [],
      "collapsed_sections": []
    },
    "kernelspec": {
      "name": "python3",
      "display_name": "Python 3"
    },
    "accelerator": "GPU"
  },
  "cells": [
    {
      "cell_type": "markdown",
      "metadata": {
        "id": "pDpaphRXQPdj",
        "colab_type": "text"
      },
      "source": [
        "**Mounting Drive**"
      ]
    },
    {
      "cell_type": "code",
      "metadata": {
        "id": "gwLCdR3cQX1o",
        "colab_type": "code",
        "outputId": "8bf1c301-abcd-4705-fec1-f26fada514e6",
        "colab": {
          "base_uri": "https://localhost:8080/",
          "height": 34
        }
      },
      "source": [
        "from google.colab import drive\n",
        "drive.mount('/content/drive', force_remount = True)"
      ],
      "execution_count": 0,
      "outputs": [
        {
          "output_type": "stream",
          "text": [
            "Mounted at /content/drive\n"
          ],
          "name": "stdout"
        }
      ]
    },
    {
      "cell_type": "code",
      "metadata": {
        "id": "RCjpr-HlQbRQ",
        "colab_type": "code",
        "colab": {}
      },
      "source": [
        "#Uncomment if you want to use Dataset prepared by the authors of the paper Character-level Convolutional Networks for Text\n",
        "#Classification\n",
        "\n",
        "DIR = '/content/drive/My Drive/AG_News/'\n",
        "\n",
        "#Uncomment if you want to use Dataset prepared by us\n",
        "# Make sure you've executed Cleaning.ipynb first\n",
        "\n",
        "# DIR = '/content/drive/My Drive/OurDataset/'"
      ],
      "execution_count": 0,
      "outputs": []
    },
    {
      "cell_type": "markdown",
      "metadata": {
        "id": "CfOArYx_QtGJ",
        "colab_type": "text"
      },
      "source": [
        "**Load in and Visualise the dataset**\n",
        "\n",
        "---\n",
        "\n"
      ]
    },
    {
      "cell_type": "code",
      "metadata": {
        "id": "bmI_fEPSQy_7",
        "colab_type": "code",
        "outputId": "8d513881-7d6a-42cf-c0be-c1bfa7cb9d33",
        "colab": {
          "base_uri": "https://localhost:8080/",
          "height": 204
        }
      },
      "source": [
        "import pandas as pd\n",
        "train_data_source = DIR + \"train.csv\"\n",
        "test_data_source =  DIR + \"test.csv\"\n",
        "\n",
        "train_df = pd.read_csv(train_data_source, header=None)\n",
        "test_df = pd.read_csv(test_data_source, header=None)\n",
        "train_df.head()"
      ],
      "execution_count": 0,
      "outputs": [
        {
          "output_type": "execute_result",
          "data": {
            "text/html": [
              "<div>\n",
              "<style scoped>\n",
              "    .dataframe tbody tr th:only-of-type {\n",
              "        vertical-align: middle;\n",
              "    }\n",
              "\n",
              "    .dataframe tbody tr th {\n",
              "        vertical-align: top;\n",
              "    }\n",
              "\n",
              "    .dataframe thead th {\n",
              "        text-align: right;\n",
              "    }\n",
              "</style>\n",
              "<table border=\"1\" class=\"dataframe\">\n",
              "  <thead>\n",
              "    <tr style=\"text-align: right;\">\n",
              "      <th></th>\n",
              "      <th>0</th>\n",
              "      <th>1</th>\n",
              "      <th>2</th>\n",
              "    </tr>\n",
              "  </thead>\n",
              "  <tbody>\n",
              "    <tr>\n",
              "      <th>0</th>\n",
              "      <td>3</td>\n",
              "      <td>Wall St. Bears Claw Back Into the Black (Reuters)</td>\n",
              "      <td>Reuters - Short-sellers, Wall Street's dwindli...</td>\n",
              "    </tr>\n",
              "    <tr>\n",
              "      <th>1</th>\n",
              "      <td>3</td>\n",
              "      <td>Carlyle Looks Toward Commercial Aerospace (Reu...</td>\n",
              "      <td>Reuters - Private investment firm Carlyle Grou...</td>\n",
              "    </tr>\n",
              "    <tr>\n",
              "      <th>2</th>\n",
              "      <td>3</td>\n",
              "      <td>Oil and Economy Cloud Stocks' Outlook (Reuters)</td>\n",
              "      <td>Reuters - Soaring crude prices plus worries\\ab...</td>\n",
              "    </tr>\n",
              "    <tr>\n",
              "      <th>3</th>\n",
              "      <td>3</td>\n",
              "      <td>Iraq Halts Oil Exports from Main Southern Pipe...</td>\n",
              "      <td>Reuters - Authorities have halted oil export\\f...</td>\n",
              "    </tr>\n",
              "    <tr>\n",
              "      <th>4</th>\n",
              "      <td>3</td>\n",
              "      <td>Oil prices soar to all-time record, posing new...</td>\n",
              "      <td>AFP - Tearaway world oil prices, toppling reco...</td>\n",
              "    </tr>\n",
              "  </tbody>\n",
              "</table>\n",
              "</div>"
            ],
            "text/plain": [
              "   0  ...                                                  2\n",
              "0  3  ...  Reuters - Short-sellers, Wall Street's dwindli...\n",
              "1  3  ...  Reuters - Private investment firm Carlyle Grou...\n",
              "2  3  ...  Reuters - Soaring crude prices plus worries\\ab...\n",
              "3  3  ...  Reuters - Authorities have halted oil export\\f...\n",
              "4  3  ...  AFP - Tearaway world oil prices, toppling reco...\n",
              "\n",
              "[5 rows x 3 columns]"
            ]
          },
          "metadata": {
            "tags": []
          },
          "execution_count": 3
        }
      ]
    },
    {
      "cell_type": "markdown",
      "metadata": {
        "id": "ef2IIbpVQ7Ql",
        "colab_type": "text"
      },
      "source": [
        "**Data Preprocessing**\n",
        "\n",
        "---\n",
        "\n",
        "\n",
        "Converting characters to vectors (Merge columns)\n",
        "\n",
        "\n"
      ]
    },
    {
      "cell_type": "code",
      "metadata": {
        "id": "xA8dXO0rQr7h",
        "colab_type": "code",
        "colab": {}
      },
      "source": [
        "import numpy as np\n",
        "import sys\n",
        "import csv\n",
        "from torch.utils.data import Dataset\n",
        "';//'\n",
        "class MyDataset(Dataset):\n",
        "    def __init__(self, data_path, max_length):\n",
        "        self.data_path = data_path\n",
        "        self.vocabulary = list(\"abcdefghijklmnopqrstuvwxyz0123456789-,;.!?:’’’/\\|_@#$%ˆ&*˜‘+-=<>()[]{}\")\n",
        "        self.identity_mat = np.identity(len(self.vocabulary))\n",
        "        texts, labels = [], []\n",
        "        with open(data_path) as csv_file:\n",
        "            reader = csv.reader(csv_file, quotechar='\"')\n",
        "            \n",
        "            for idx, line in enumerate(reader):\n",
        "                text = \"\"\n",
        "        \n",
        "                text = line[1]+' '+line[2]\n",
        "                label = int(line[0])-1 \n",
        "                texts.append(text.lower()) \n",
        "                labels.append(label)\n",
        "        #print(texts[0])\n",
        "        cleaned_text=[]\n",
        "        keeplist = set('abcdefghijklmnopqrstuvwxyz ABCDEFGHIJKLMNOPQRSTUVWXYZ0123456789-,;.!?:’’’/\\|_@#$%ˆ&*˜‘+-=<>()[]{}')\n",
        "        for ln in texts:\n",
        "            cleaned = ''.join(filter(keeplist.__contains__, ln))  \n",
        "            cleaned = cleaned.lower()\n",
        "            cleaned_text.append(cleaned)   \n",
        "\n",
        "\n",
        "        self.texts = cleaned_text\n",
        "        #print(self.texts[0])\n",
        "        self.labels = labels\n",
        "        self.max_length = max_length\n",
        "        self.length = len(self.labels)\n",
        "        self.num_classes = len(set(self.labels))\n",
        "\n",
        "    def __len__(self):\n",
        "        return self.length\n",
        "\n",
        "    def __getitem__(self, index):\n",
        "        raw_text = self.texts[index]\n",
        "        data = np.array([self.identity_mat[self.vocabulary.index(i)] for i in list(raw_text) if i in self.vocabulary],\n",
        "                        dtype=np.float32)\n",
        "        if len(data) > self.max_length:\n",
        "            data = data[:self.max_length]\n",
        "        elif 0 < len(data) < self.max_length:\n",
        "            data = np.concatenate(\n",
        "                (data, np.zeros((self.max_length - len(data), len(self.vocabulary)), dtype=np.float32)))\n",
        "        elif len(data) == 0:\n",
        "            data = np.zeros((self.max_length, len(self.vocabulary)), dtype=np.float32)\n",
        "        label = self.labels[index]\n",
        "        return data, label"
      ],
      "execution_count": 0,
      "outputs": []
    },
    {
      "cell_type": "code",
      "metadata": {
        "id": "BgtdEZxTRDlN",
        "colab_type": "code",
        "colab": {}
      },
      "source": [
        "#Extract data using MyDataset Class\n",
        "# Data with both columns merged and all lower case letters\n",
        "import csv\n",
        "max_length = 1014 #maximum characters in a sentence\n",
        "train_set = MyDataset(DIR + \"train.csv\", max_length)     # fix maxlength to 1014\n",
        "test_set = MyDataset(DIR + \"test.csv\", max_length)          # fix maxlength to 1014\n",
        "#train_set.texts"
      ],
      "execution_count": 0,
      "outputs": []
    },
    {
      "cell_type": "code",
      "metadata": {
        "id": "W9pjuNJ1RLXT",
        "colab_type": "code",
        "outputId": "9a77ea43-c8a7-4347-aa7d-a3e66ad3be21",
        "colab": {
          "base_uri": "https://localhost:8080/",
          "height": 51
        }
      },
      "source": [
        "#verifying lengths of  AG News train and test set\n",
        "print(len(train_set.texts))\n",
        "print(len(test_set.texts))"
      ],
      "execution_count": 0,
      "outputs": [
        {
          "output_type": "stream",
          "text": [
            "120000\n",
            "7600\n"
          ],
          "name": "stdout"
        }
      ]
    },
    {
      "cell_type": "code",
      "metadata": {
        "id": "Z110f6-QSZQU",
        "colab_type": "code",
        "colab": {}
      },
      "source": [
        "import torch\n",
        "import torch.nn as nn\n",
        "import torch.nn.functional as F\n",
        "from torch.utils.data import DataLoader"
      ],
      "execution_count": 0,
      "outputs": []
    },
    {
      "cell_type": "code",
      "metadata": {
        "id": "b9-JduKORpg0",
        "colab_type": "code",
        "colab": {}
      },
      "source": [
        "#pass parameters for training\n",
        "train_params = {\"batch_size\": 128, \"shuffle\": False, \"num_workers\": 0}  #Purposely not shuffled to verify the encoding of characters.\n",
        "\n",
        "#Load Training dataset                 \n",
        "train_loader = DataLoader(train_set, **train_params)\n"
      ],
      "execution_count": 0,
      "outputs": []
    },
    {
      "cell_type": "markdown",
      "metadata": {
        "id": "9vMpuXVaV93R",
        "colab_type": "text"
      },
      "source": [
        "**Training, Validation, and Test Data**\n",
        "\n",
        "---\n",
        "\n"
      ]
    },
    {
      "cell_type": "code",
      "metadata": {
        "id": "iQdRb6gzWeuk",
        "colab_type": "code",
        "outputId": "d27a6776-08f7-48aa-b2aa-17acb9af74d3",
        "colab": {
          "base_uri": "https://localhost:8080/",
          "height": 85
        }
      },
      "source": [
        "#reset shuffle permissions to True!\n",
        "dataset = MyDataset( DIR + \"train.csv\", 1014)\n",
        "train_set, val_set = torch.utils.data.random_split(dataset, [100000, 20000])\n",
        "## print out the shapes of your resultant feature data\n",
        "print(\"Feature Shapes:\")\n",
        "print(\"Train set: \\t\\t{}\".format(len(train_set)), \n",
        "      \"\\nValidation set: \\t{}\".format(len(val_set)),\n",
        "      \"\\nTest set: \\t\\t{}\".format(len(test_set)))"
      ],
      "execution_count": 0,
      "outputs": [
        {
          "output_type": "stream",
          "text": [
            "Feature Shapes:\n",
            "Train set: \t\t100000 \n",
            "Validation set: \t20000 \n",
            "Test set: \t\t7600\n"
          ],
          "name": "stdout"
        }
      ]
    },
    {
      "cell_type": "code",
      "metadata": {
        "id": "ByW1dOLrX3L_",
        "colab_type": "code",
        "colab": {}
      },
      "source": [
        "#Dataloaders\n",
        "batch_size = 128\n",
        "training_params = {\"batch_size\": batch_size, \"shuffle\": True,\"num_workers\": 0} #shuffle deck\n",
        "test_params = {\"batch_size\": batch_size,\"shuffle\": False, \"num_workers\": 0}\n",
        "\n",
        "training_generator = DataLoader(train_set, **training_params)\n",
        "validation_generator = DataLoader(val_set, **training_params)\n",
        "test_generator = DataLoader(test_set, **test_params)"
      ],
      "execution_count": 0,
      "outputs": []
    },
    {
      "cell_type": "code",
      "metadata": {
        "id": "2msDu_KdY4b_",
        "colab_type": "code",
        "outputId": "3bea9e69-fdac-4e26-caba-726d85a474fc",
        "colab": {
          "base_uri": "https://localhost:8080/",
          "height": 34
        }
      },
      "source": [
        "# Check availability of GPU\n",
        "train_on_gpu=torch.cuda.is_available()\n",
        "\n",
        "if(train_on_gpu):\n",
        "    print('Training on GPU.')\n",
        "else:\n",
        "    print('No GPU available, training on CPU.')"
      ],
      "execution_count": 0,
      "outputs": [
        {
          "output_type": "stream",
          "text": [
            "Training on GPU.\n"
          ],
          "name": "stdout"
        }
      ]
    },
    {
      "cell_type": "markdown",
      "metadata": {
        "id": "73s9u15taMV5",
        "colab_type": "text"
      },
      "source": [
        "**Defining the Network**\n",
        "\n",
        "---\n",
        "\n"
      ]
    },
    {
      "cell_type": "code",
      "metadata": {
        "id": "HtYi6EPHCmer",
        "colab_type": "code",
        "colab": {}
      },
      "source": [
        "class CharCNN(nn.Module):\n",
        "    def __init__(self, n_classes , input_length , input_dim ,\n",
        "                 n_conv_filters ,\n",
        "                 n_fc_neurons ):\n",
        "        super(CharCNN, self).__init__()\n",
        "        self.conv1 = nn.Conv1d(input_dim, n_conv_filters, kernel_size=7, padding=0)\n",
        "        self.conv2 = nn.Conv1d(n_conv_filters, n_conv_filters, kernel_size=7, padding=0)\n",
        "        self.conv3 = nn.Conv1d(n_conv_filters, n_conv_filters, kernel_size=3, padding=0)\n",
        "        self.conv4 = nn.Conv1d(n_conv_filters, n_conv_filters, kernel_size=3, padding=0)\n",
        "        self.conv5 = nn.Conv1d(n_conv_filters, n_conv_filters, kernel_size=3, padding=0)\n",
        "        self.conv6 = nn.Conv1d(n_conv_filters, n_conv_filters, kernel_size=3, padding=0)\n",
        "\n",
        "        dimension = int(((input_length - 96) / 27) * n_conv_filters) # since the stride used for max_pool is 3 and not 1!!!\n",
        "        #dimension = 8704\n",
        "        self.fc1 = nn.Linear(dimension, n_fc_neurons)   \n",
        "        self.fc2 = nn.Linear(n_fc_neurons, n_fc_neurons)\n",
        "        self.out = nn.Linear(n_fc_neurons, n_classes)\n",
        "\n",
        "        if n_conv_filters == 256 and n_fc_neurons == 1024:\n",
        "            self._create_weights(mean=0.0, std=0.05)\n",
        "        elif n_conv_filters == 1024 and n_fc_neurons == 2048:\n",
        "            self._create_weights(mean=0.0, std=0.02)\n",
        "\n",
        "    def _create_weights(self, mean=0.0, std=0.05):\n",
        "        for module in self.modules():\n",
        "            if isinstance(module, nn.Conv1d) or isinstance(module, nn.Linear):\n",
        "                module.weight.data.normal_(mean, std)\n",
        "                \n",
        "       \n",
        "    \n",
        "    def forward(self, t):\n",
        "        #define input layer\n",
        "        t = t.transpose(1, 2)    #Height = 70, Width = 1014\n",
        "        \n",
        "        #define hidden layers\n",
        "\n",
        "        #convolution layers #1\n",
        "        t = self.conv1(t)\n",
        "        t = F.relu(t)\n",
        "        t = F.max_pool1d(t,3)\n",
        "        \n",
        "        #2\n",
        "        t = self.conv2(t)\n",
        "        t = F.relu(t)\n",
        "        t = F.max_pool1d(t,3)\n",
        "       \n",
        "        #3\n",
        "        t = self.conv3(t)\n",
        "        t = F.relu(t)\n",
        "        \n",
        "        #4\n",
        "        t = self.conv4(t)\n",
        "        t = F.relu(t)\n",
        "\n",
        "        #5\n",
        "        t = self.conv5(t)\n",
        "        t = F.relu(t)\n",
        "        \n",
        "        #6\n",
        "        t = self.conv6(t)\n",
        "        t = F.relu(t)\n",
        "        t = F.max_pool1d(t,3)\n",
        "        #F.max_pool1d\n",
        "\n",
        "        #Fully_Connected Layers\n",
        "        t = t.view(t.size(0), -1)\n",
        "        #t = t.reshape(-1, 8704) #to define the size for fully connected layers\n",
        "\n",
        "        t = self.fc1(t)\n",
        "        t = F.dropout(t,0.5)\n",
        "\n",
        "        t = self.fc2(t)\n",
        "        t = F.dropout(t,0.5)\n",
        "       \n",
        "        t = self.out(t)\n",
        "        \n",
        "        #t = F.softmax(t,dim = 1) #check the dimension according to the size!!!\n",
        "        #not applied softmax because in the input of crossentropy loss function, it automatically takes the softmax of every input!!!\n",
        "        return t"
      ],
      "execution_count": 0,
      "outputs": []
    },
    {
      "cell_type": "markdown",
      "metadata": {
        "id": "r7xeEZ7XojhN",
        "colab_type": "text"
      },
      "source": [
        "**Instantiate the model**\n",
        "\n",
        "---\n",
        "\n",
        "(Choose between training on Small Features v/s Large Features)\n"
      ]
    },
    {
      "cell_type": "code",
      "metadata": {
        "id": "7aEeElxRajKP",
        "colab_type": "code",
        "outputId": "13aa65f3-13b1-4559-84db-db2d0009104d",
        "colab": {
          "base_uri": "https://localhost:8080/",
          "height": 204
        }
      },
      "source": [
        "input_length = 1014\n",
        "n_classes = 4\n",
        "input_dim = 70\n",
        "n_conv_filters_small = 256\n",
        "n_conv_filters_large = 1024\n",
        "n_fc_neurons_small = 1024\n",
        "n_fc_neurons_large = 2048\n",
        "\n",
        "# Uncomment for training on small feature\n",
        "model = CharCNN(input_length=1014, n_classes= 4,\n",
        "                              input_dim= 70,\n",
        "                             n_conv_filters=n_conv_filters_small, n_fc_neurons=n_fc_neurons_small)\n",
        "\n",
        "# Uncomment for training on large feature\n",
        "# model = CharCNN(input_length=1014, n_classes= 4,\n",
        "#                               input_dim= 70,\n",
        "#                              n_conv_filters=n_conv_filters_large, n_fc_neurons=n_fc_neurons_large)\n",
        "print(model)\n",
        "    \n"
      ],
      "execution_count": 0,
      "outputs": [
        {
          "output_type": "stream",
          "text": [
            "CharCNN(\n",
            "  (conv1): Conv1d(70, 256, kernel_size=(7,), stride=(1,))\n",
            "  (conv2): Conv1d(256, 256, kernel_size=(7,), stride=(1,))\n",
            "  (conv3): Conv1d(256, 256, kernel_size=(3,), stride=(1,))\n",
            "  (conv4): Conv1d(256, 256, kernel_size=(3,), stride=(1,))\n",
            "  (conv5): Conv1d(256, 256, kernel_size=(3,), stride=(1,))\n",
            "  (conv6): Conv1d(256, 256, kernel_size=(3,), stride=(1,))\n",
            "  (fc1): Linear(in_features=8704, out_features=1024, bias=True)\n",
            "  (fc2): Linear(in_features=1024, out_features=1024, bias=True)\n",
            "  (out): Linear(in_features=1024, out_features=4, bias=True)\n",
            ")\n"
          ],
          "name": "stdout"
        }
      ]
    },
    {
      "cell_type": "markdown",
      "metadata": {
        "id": "sWFNJRdceCNM",
        "colab_type": "text"
      },
      "source": [
        "**Training**\n",
        "\n",
        "---\n",
        "\n"
      ]
    },
    {
      "cell_type": "code",
      "metadata": {
        "id": "k4CH0hiabF19",
        "colab_type": "code",
        "outputId": "ac5c1f9d-a3d0-484f-ce74-270396778b8c",
        "colab": {
          "base_uri": "https://localhost:8080/",
          "height": 68
        }
      },
      "source": [
        "# loss and optimization functions\n",
        "criterion = nn.CrossEntropyLoss()\n",
        "lr = 0.01\n",
        "momentum = 0.9\n",
        "optimizer = torch.optim.SGD(model.parameters(), lr , momentum)\n",
        "print(\"____model parameters____\")\n",
        "print(\"lr: \\t\\t{}\".format(lr), \n",
        "      \"\\nmomentum rate: \\t{}\".format(momentum),\n",
        "     )\n"
      ],
      "execution_count": 0,
      "outputs": [
        {
          "output_type": "stream",
          "text": [
            "____model parameters____\n",
            "lr: \t\t0.01 \n",
            "momentum rate: \t0.9\n"
          ],
          "name": "stdout"
        }
      ]
    },
    {
      "cell_type": "code",
      "metadata": {
        "colab_type": "code",
        "id": "59RXDx5bZPn7",
        "colab": {}
      },
      "source": [
        "import numpy as np\n",
        "from sklearn import metrics\n",
        "\n",
        "def get_accuracy(y_true, y_pred):\n",
        "    y_pred = np.argmax(y_pred, -1)\n",
        "    output = {}\n",
        "    output['accuracy'] = metrics.accuracy_score(y_true, y_pred)\n",
        "    return output"
      ],
      "execution_count": 0,
      "outputs": []
    },
    {
      "cell_type": "markdown",
      "metadata": {
        "id": "QfgFtzTE1QJe",
        "colab_type": "text"
      },
      "source": [
        "**Train and Validate**\n",
        "\n",
        "---\n",
        "\n"
      ]
    },
    {
      "cell_type": "code",
      "metadata": {
        "colab_type": "code",
        "outputId": "46baddd3-8291-43fc-b4dc-ff3d73a218a4",
        "id": "Dm7VfvoynaN8",
        "colab": {
          "base_uri": "https://localhost:8080/",
          "height": 272
        }
      },
      "source": [
        "#def train(num_epochs):\n",
        "import numpy as np\n",
        "from sklearn import metrics\n",
        "from sklearn.metrics import confusion_matrix\n",
        "\n",
        "if torch.cuda.is_available():\n",
        "        model.cuda()\n",
        "\n",
        "model.train()\n",
        "num_iter_per_epoch = len(training_generator)\n",
        "train_loss_plot = []\n",
        "loss_plot = []\n",
        "epoch_plot = []     \n",
        "num_epochs = 15 #after observing validation loss\n",
        "\n",
        "for epoch in range(num_epochs):\n",
        "       \n",
        "    for iter, batch in enumerate(training_generator):\n",
        "            train_vector, train_label = batch\n",
        "            \n",
        "\n",
        "            if torch.cuda.is_available():\n",
        "                train_vector = train_vector.cuda()\n",
        "                train_label = train_label.cuda()\n",
        "            \n",
        "            optimizer.zero_grad()\n",
        "            predictions = model(train_vector)\n",
        "            train_loss = criterion(predictions, train_label)\n",
        "            train_loss.backward()\n",
        "            optimizer.step()\n",
        "\n",
        "    \n",
        "            train_accuracy = get_accuracy(train_label.cpu().numpy(), predictions.cpu().detach().numpy())\n",
        "    \n",
        "    \n",
        "    #validation to determine optimum number of epochs\n",
        "    model.eval()\n",
        "    \n",
        "    validloss_append = []\n",
        "    valid_labels = []\n",
        "    valid_preds = []\n",
        "      \n",
        "    #done after every epoch    \n",
        "    for batch in validation_generator:\n",
        "            valid_vector, valid_label = batch\n",
        "            num_sample = len(valid_label)\n",
        "            \n",
        "            #shifting to GPU\n",
        "            if torch.cuda.is_available():\n",
        "                valid_vector = valid_vector.cuda()\n",
        "                valid_label = valid_label.cuda()\n",
        "            \n",
        "            with torch.no_grad():\n",
        "                valid_predictions = model(valid_vector)\n",
        "            valid_loss = criterion(valid_predictions, valid_label)\n",
        "    \n",
        "            validloss_append.append(valid_loss * num_sample)\n",
        "            \n",
        "            valid_labels.extend(valid_label.clone().cpu())\n",
        "            valid_preds.append(valid_predictions.clone().cpu())\n",
        "\n",
        "    valid_loss = sum(validloss_append) / val_set.__len__()\n",
        "    loss_plot.append(valid_loss)\n",
        "    epoch_plot.append(epoch)\n",
        "    train_loss_plot.append(train_loss)\n",
        "\n",
        "    val_pred = torch.cat(valid_preds, 0)\n",
        "    val_label = np.array(valid_labels)\n",
        "    \n",
        "    \n",
        "    \n",
        "    val_accuracy = get_accuracy(val_label, val_pred.numpy())\n",
        "    \n",
        "    print(\"Epoch: {}/{}...Lr: {}...Validation Loss: {}...Validation Accuracy: {}\".format(\n",
        "            epoch + 1,\n",
        "             num_epochs,\n",
        "            optimizer.param_groups[0]['lr'],\n",
        "           valid_loss, val_accuracy,))\n",
        "\n",
        "   \n",
        "    if (epoch+1) % 3 == 0 and epoch > 0:\n",
        "            current_lr = optimizer.state_dict()['param_groups'][0]['lr']\n",
        "            current_lr /= 2\n",
        "            for param_group in optimizer.param_groups:\n",
        "               param_group['lr'] = current_lr\n",
        " \n",
        "       \n"
      ],
      "execution_count": 0,
      "outputs": [
        {
          "output_type": "stream",
          "text": [
            "Epoch: 1/15...Lr: 0.01...Validation Loss: 1.7556443214416504...Validation Accuracy: {'accuracy': 0.32085}\n",
            "Epoch: 2/15...Lr: 0.01...Validation Loss: 0.8604167699813843...Validation Accuracy: {'accuracy': 0.6249}\n",
            "Epoch: 3/15...Lr: 0.01...Validation Loss: 0.6154647469520569...Validation Accuracy: {'accuracy': 0.7589}\n",
            "Epoch: 4/15...Lr: 0.005...Validation Loss: 0.46401047706604004...Validation Accuracy: {'accuracy': 0.8372}\n",
            "Epoch: 5/15...Lr: 0.005...Validation Loss: 0.3910796642303467...Validation Accuracy: {'accuracy': 0.86575}\n",
            "Epoch: 6/15...Lr: 0.005...Validation Loss: 0.4418871998786926...Validation Accuracy: {'accuracy': 0.84775}\n",
            "Epoch: 7/15...Lr: 0.0025...Validation Loss: 0.43327558040618896...Validation Accuracy: {'accuracy': 0.8438}\n",
            "Epoch: 8/15...Lr: 0.0025...Validation Loss: 0.3878474831581116...Validation Accuracy: {'accuracy': 0.86765}\n",
            "Epoch: 9/15...Lr: 0.0025...Validation Loss: 0.41862908005714417...Validation Accuracy: {'accuracy': 0.8618}\n",
            "Epoch: 10/15...Lr: 0.00125...Validation Loss: 0.4090176522731781...Validation Accuracy: {'accuracy': 0.86895}\n",
            "Epoch: 11/15...Lr: 0.00125...Validation Loss: 0.45550623536109924...Validation Accuracy: {'accuracy': 0.85545}\n",
            "Epoch: 12/15...Lr: 0.00125...Validation Loss: 0.4537768065929413...Validation Accuracy: {'accuracy': 0.86065}\n",
            "Epoch: 13/15...Lr: 0.000625...Validation Loss: 0.4765024185180664...Validation Accuracy: {'accuracy': 0.86125}\n",
            "Epoch: 14/15...Lr: 0.000625...Validation Loss: 0.5068124532699585...Validation Accuracy: {'accuracy': 0.8576}\n",
            "Epoch: 15/15...Lr: 0.000625...Validation Loss: 0.5016860961914062...Validation Accuracy: {'accuracy': 0.86235}\n"
          ],
          "name": "stdout"
        }
      ]
    },
    {
      "cell_type": "code",
      "metadata": {
        "id": "HLs5Cv_r4_SL",
        "colab_type": "code",
        "outputId": "02df86ef-7026-4343-8133-46083691558d",
        "colab": {
          "base_uri": "https://localhost:8080/",
          "height": 88
        }
      },
      "source": [
        "print(loss_plot)\n",
        "print(epoch_plot)\n",
        "print(train_loss_plot)"
      ],
      "execution_count": 0,
      "outputs": [
        {
          "output_type": "stream",
          "text": [
            "[tensor(1.7556, device='cuda:0'), tensor(0.8604, device='cuda:0'), tensor(0.6155, device='cuda:0'), tensor(0.4640, device='cuda:0'), tensor(0.3911, device='cuda:0'), tensor(0.4419, device='cuda:0'), tensor(0.4333, device='cuda:0'), tensor(0.3878, device='cuda:0'), tensor(0.4186, device='cuda:0'), tensor(0.4090, device='cuda:0'), tensor(0.4555, device='cuda:0'), tensor(0.4538, device='cuda:0'), tensor(0.4765, device='cuda:0'), tensor(0.5068, device='cuda:0'), tensor(0.5017, device='cuda:0')]\n",
            "[0, 1, 2, 3, 4, 5, 6, 7, 8, 9, 10, 11, 12, 13, 14]\n",
            "[tensor(1.2205, device='cuda:0', grad_fn=<NllLossBackward>), tensor(0.8010, device='cuda:0', grad_fn=<NllLossBackward>), tensor(0.5975, device='cuda:0', grad_fn=<NllLossBackward>), tensor(0.4275, device='cuda:0', grad_fn=<NllLossBackward>), tensor(0.3051, device='cuda:0', grad_fn=<NllLossBackward>), tensor(0.3061, device='cuda:0', grad_fn=<NllLossBackward>), tensor(0.3236, device='cuda:0', grad_fn=<NllLossBackward>), tensor(0.0956, device='cuda:0', grad_fn=<NllLossBackward>), tensor(0.1532, device='cuda:0', grad_fn=<NllLossBackward>), tensor(0.0492, device='cuda:0', grad_fn=<NllLossBackward>), tensor(0.1683, device='cuda:0', grad_fn=<NllLossBackward>), tensor(0.0314, device='cuda:0', grad_fn=<NllLossBackward>), tensor(0.1266, device='cuda:0', grad_fn=<NllLossBackward>), tensor(0.0733, device='cuda:0', grad_fn=<NllLossBackward>), tensor(0.0371, device='cuda:0', grad_fn=<NllLossBackward>)]\n"
          ],
          "name": "stdout"
        }
      ]
    },
    {
      "cell_type": "markdown",
      "metadata": {
        "id": "M-6IKHnIo3xw",
        "colab_type": "text"
      },
      "source": [
        "**Validation Loss Graph**\n",
        "\n",
        "---\n",
        "\n"
      ]
    },
    {
      "cell_type": "code",
      "metadata": {
        "id": "km7Tlyh2Z_xG",
        "colab_type": "code",
        "outputId": "59c2c2b6-ce07-4343-81b4-99f1c004a4f5",
        "colab": {
          "base_uri": "https://localhost:8080/",
          "height": 404
        }
      },
      "source": [
        "import matplotlib.pyplot as plt\n",
        "\n",
        "test = plt.figure(figsize=(6,6))\n",
        "plt.plot(epoch_plot, loss_plot,label='Validation loss')\n",
        "#plt.plot(epoch_plot, train_loss_plot, label='Training loss')\n",
        "plt.xlabel('epoch')\n",
        "plt.ylabel('validation loss')\n",
        "plt.title('loss graph')\n",
        "plt.legend()\n",
        "test.show()"
      ],
      "execution_count": 0,
      "outputs": [
        {
          "output_type": "display_data",
          "data": {
            "image/png": "[encoded data removed]",
            "text/plain": [
              "<Figure size 432x432 with 1 Axes>"
            ]
          },
          "metadata": {
            "tags": [],
            "needs_background": "light"
          }
        }
      ]
    },
    {
      "cell_type": "code",
      "metadata": {
        "id": "qJTGazpGaxtC",
        "colab_type": "code",
        "colab": {}
      },
      "source": [
        "cm_savepath = '/content/drive/My Drive/NNFL_PROJ/SCREENSHOTS/CharCNN/'\n",
        "test.savefig(cm_savepath+ 'val loss_15epochs_small.png')"
      ],
      "execution_count": 0,
      "outputs": []
    },
    {
      "cell_type": "markdown",
      "metadata": {
        "id": "C96JsQvwo9_i",
        "colab_type": "text"
      },
      "source": [
        "**Testing**\n",
        "\n",
        "---\n",
        "\n"
      ]
    },
    {
      "cell_type": "code",
      "metadata": {
        "colab_type": "code",
        "outputId": "29eaa341-646e-4910-d387-6e9deb02bd50",
        "id": "lfLco5pffQVJ",
        "colab": {
          "base_uri": "https://localhost:8080/",
          "height": 323
        }
      },
      "source": [
        "from sklearn.metrics import confusion_matrix\n",
        "from sklearn.metrics import classification_report\n",
        "model.eval()\n",
        "\n",
        "test_losses = []\n",
        "test_labels = []\n",
        "test_preds = []\n",
        "\n",
        "for batch in test_generator:\n",
        "    test_vector, test_label = batch\n",
        "    num_sample = len(test_label)\n",
        "    \n",
        "    if torch.cuda.is_available():\n",
        "        test_vector = test_vector.cuda()\n",
        "        test_label = test_label.cuda()\n",
        "    \n",
        "    with torch.no_grad():\n",
        "        test_predictions = model(test_vector)\n",
        "        \n",
        "    test_loss = criterion(test_predictions, test_label)\n",
        "    test_losses.append(test_loss * num_sample)\n",
        "    \n",
        "    test_labels.extend(test_label.clone().cpu())\n",
        "    test_preds.append(test_predictions.clone().cpu())\n",
        "\n",
        "test_loss = sum(test_losses) / test_set.__len__()\n",
        "test_pred = torch.cat(test_preds, 0)\n",
        "test_label = np.array(test_labels)\n",
        "\n",
        "test_accuracy = get_accuracy(test_label,test_pred.numpy())      \n",
        "\n",
        "print(\"Epoch: {}/{}.... Lr: {}.... Loss: {}..... Test Accuracy: {}\".format(\n",
        "            2,\n",
        "            2,\n",
        "            optimizer.param_groups[0]['lr'],\n",
        "            test_loss, test_accuracy))\n",
        "cm = confusion_matrix(test_label, test_pred.argmax(dim=1))\n",
        "print(\"raw form of confusion matrix\")\n",
        "print(cm)\n",
        "\n",
        "\n",
        "print(\"Classification Report\")\n",
        "target_names = ['World','Sports','Business','Sci/Tech']\n",
        "print(classification_report(test_label, test_pred.argmax(dim=1), target_names=target_names))\n",
        "      \n"
      ],
      "execution_count": 0,
      "outputs": [
        {
          "output_type": "stream",
          "text": [
            "Epoch: 2/2.... Lr: 0.0003125.... Loss: 0.5011541247367859..... Test Accuracy: {'accuracy': 0.8694736842105263}\n",
            "raw form of confusion matrix\n",
            "[[1642   94   88   76]\n",
            " [  41 1796   28   35]\n",
            " [  90   50 1546  214]\n",
            " [  57   53  166 1624]]\n",
            "Classification Report\n",
            "              precision    recall  f1-score   support\n",
            "\n",
            "       World       0.90      0.86      0.88      1900\n",
            "      Sports       0.90      0.95      0.92      1900\n",
            "    Business       0.85      0.81      0.83      1900\n",
            "    Sci/Tech       0.83      0.85      0.84      1900\n",
            "\n",
            "    accuracy                           0.87      7600\n",
            "   macro avg       0.87      0.87      0.87      7600\n",
            "weighted avg       0.87      0.87      0.87      7600\n",
            "\n"
          ],
          "name": "stdout"
        }
      ]
    },
    {
      "cell_type": "markdown",
      "metadata": {
        "id": "i-YEFosXD4lg",
        "colab_type": "text"
      },
      "source": [
        "**Prediction Results**\n",
        "\n",
        "---\n",
        "\n"
      ]
    },
    {
      "cell_type": "code",
      "metadata": {
        "id": "OEUP1QdCBQHU",
        "colab_type": "code",
        "outputId": "f5e4d29c-3e42-479d-c554-25b95132e64d",
        "colab": {
          "base_uri": "https://localhost:8080/",
          "height": 85
        }
      },
      "source": [
        "pred = test_pred.argmax(dim=1)\n",
        "print(\"Results predicted from model....\")\n",
        "print(pred[0:20])\n",
        "print(\"Actual labels....\")\n",
        "print(test_label[0:20])"
      ],
      "execution_count": 0,
      "outputs": [
        {
          "output_type": "stream",
          "text": [
            "Results predicted from model....\n",
            "tensor([2, 3, 3, 3, 3, 3, 3, 3, 0, 2, 3, 3, 3, 3, 3, 3, 3, 3, 3, 0])\n",
            "Actual labels....\n",
            "[2 3 3 3 3 3 3 3 3 3 3 3 3 3 3 3 3 3 3 3]\n"
          ],
          "name": "stdout"
        }
      ]
    },
    {
      "cell_type": "markdown",
      "metadata": {
        "id": "ZrX0DeLLITNs",
        "colab_type": "text"
      },
      "source": [
        "**Display Confusion Matrix**\n",
        "\n",
        "---\n",
        "\n"
      ]
    },
    {
      "cell_type": "code",
      "metadata": {
        "id": "u2D7W3oMGIZf",
        "colab_type": "code",
        "colab": {}
      },
      "source": [
        "import itertools\n",
        "import numpy as np\n",
        "import matplotlib.pyplot as plt\n",
        "\n",
        "def plot_confusion_matrix(cm, classes, normalize=False, title='Confusion matrix', cmap=plt.cm.Blues):\n",
        "    if normalize:\n",
        "        cm = cm.astype('float') / cm.sum(axis=1)[:, np.newaxis]\n",
        "        print(\"Normalized confusion matrix\")\n",
        "    else:\n",
        "        print('Confusion matrix, without normalization')\n",
        "\n",
        "    print(cm)\n",
        "    plt.imshow(cm, interpolation='nearest', cmap=cmap)\n",
        "    plt.title(title)\n",
        "    plt.colorbar()\n",
        "    tick_marks = np.arange(len(classes))\n",
        "    plt.xticks(tick_marks, classes, rotation=45)\n",
        "    plt.yticks(tick_marks, classes)\n",
        "\n",
        "    fmt = '.2f' if normalize else 'd'\n",
        "    thresh = cm.max() / 2.\n",
        "    for i, j in itertools.product(range(cm.shape[0]), range(cm.shape[1])):\n",
        "        plt.text(j, i, format(cm[i, j], fmt), horizontalalignment=\"center\", color=\"white\" if cm[i, j] > thresh else \"black\")\n",
        "\n",
        "    plt.tight_layout()\n",
        "    plt.ylabel('True label')\n",
        "    plt.xlabel('Predicted label')"
      ],
      "execution_count": 0,
      "outputs": []
    },
    {
      "cell_type": "code",
      "metadata": {
        "id": "IcLfMgWBE7tn",
        "colab_type": "code",
        "outputId": "f15eb4a9-8268-418e-d87c-88be8ebeb79f",
        "colab": {
          "base_uri": "https://localhost:8080/",
          "height": 540
        }
      },
      "source": [
        "import matplotlib.pyplot as plt\n",
        "from sklearn.metrics import confusion_matrix\n",
        "cm = confusion_matrix(test_set.labels, test_pred.argmax(dim=1))\n",
        "#print(type(cm))\n",
        "#cm\n",
        "names = (\n",
        "    'World',\n",
        "'Sports',\n",
        "'Business',\n",
        "'Sci/Tech'\n",
        ")\n",
        "plt.figure(figsize=(8,6))\n",
        "\n",
        "Title = 'Confusion Matrix_15epochs'\n",
        "plot_confusion_matrix(cm, names,title = Title)\n",
        "\n",
        "cm_savepath = '/content/drive/My Drive/NNFL_PROJ/SCREENSHOTS/CharCNN/'\n",
        "plt.savefig(cm_savepath+ 'cm_15epochs_author_small.png')"
      ],
      "execution_count": 0,
      "outputs": [
        {
          "output_type": "stream",
          "text": [
            "Confusion matrix, without normalization\n",
            "[[1642   94   88   76]\n",
            " [  41 1796   28   35]\n",
            " [  90   50 1546  214]\n",
            " [  57   53  166 1624]]\n"
          ],
          "name": "stdout"
        },
        {
          "output_type": "display_data",
          "data": {
            "image/png": "[encoded data removed]",
            "text/plain": [
              "<Figure size 576x432 with 2 Axes>"
            ]
          },
          "metadata": {
            "tags": [],
            "needs_background": "light"
          }
        }
      ]
    },
    {
      "cell_type": "markdown",
      "metadata": {
        "id": "kn_wlVZwlv5N",
        "colab_type": "text"
      },
      "source": [
        "***Predict any random news sample text***"
      ]
    },
    {
      "cell_type": "code",
      "metadata": {
        "id": "nV3ptXa9-mEu",
        "colab_type": "code",
        "colab": {}
      },
      "source": [
        "from string import punctuation\n",
        "def tokenize_single_news(test_news, vocabulary, max_length):\n",
        "     test_text = ''.join([c for c in test_news if c not in punctuation])  \n",
        "     identity_mat = np.identity(len(vocabulary))\n",
        "     data = np.array([identity_mat[vocabulary.index(i)] for i in list(test_text) if i in vocabulary],\n",
        "                        dtype=np.float32)\n",
        "     if len(data) > max_length:\n",
        "            data = data[:max_length]\n",
        "     elif 0 < len(data) < max_length:\n",
        "            data = np.concatenate(\n",
        "                (data, np.zeros((max_length - len(data), len(vocabulary)), dtype=np.float32)))\n",
        "     elif len(data) == 0:\n",
        "            data = np.zeros((max_length, len(vocabulary)), dtype=np.float32)\n",
        "     return data"
      ],
      "execution_count": 0,
      "outputs": []
    },
    {
      "cell_type": "markdown",
      "metadata": {
        "id": "nb-DP2i1pRxa",
        "colab_type": "text"
      },
      "source": [
        "**Predict Class of Random News Sample**\n",
        "\n",
        "---\n",
        "\n"
      ]
    },
    {
      "cell_type": "code",
      "metadata": {
        "colab_type": "code",
        "id": "Wym-F26XGltN",
        "colab": {}
      },
      "source": [
        "def predict( net , test_news):\n",
        "    net.eval()\n",
        "    vocabulary = list(\"abcdefghijklmnopqrstuvwxyz0123456789-,;.!?:’’’/\\|_@#$%ˆ&*˜‘+-=<>()[]{}\")\n",
        "    \n",
        "    # tokenize news\n",
        "    max_length = 1014 #max number of characters in a sentence\n",
        "    features = tokenize_single_news(test_news, vocabulary, max_length)\n",
        "  \n",
        "    # convert to tensor to pass into the model\n",
        "    feature_tensor = torch.from_numpy(features)\n",
        "    \n",
        "    batch_size = feature_tensor.size(0)\n",
        "    #check GPU availability\n",
        "    if(train_on_gpu):\n",
        "        feature_tensor = feature_tensor.cuda()\n",
        "    \n",
        "    # get the output from the model\n",
        "    output = net(feature_tensor.unsqueeze(0))\n",
        "    \n",
        "    # convert output to find the maximum index as done by softmax\n",
        "    te_pred_softmax = F.softmax(output, dim=1)\n",
        "    pred = te_pred_softmax.argmax(dim=1)\n",
        "\n",
        "   # pred = output.squeeze() \n",
        "    print(pred)\n",
        "    # printing output value, before rounding\n",
        "    print('Prediction value, pre-rounding: {:.6f}'.format(pred.item()))\n",
        "    \n",
        "    # print the news detected\n",
        "    if(pred.item()==0):\n",
        "        print(\"World news detected!\")\n",
        "    elif(pred.item()==1):\n",
        "        print(\"Sports news detected!\")\n",
        "    elif(pred.item()==2):\n",
        "        print(\"Business news detected!\")\n",
        "    elif (pred.item()==3):\n",
        "        print(\"Sci/Tech news detected!\")\n",
        "    else: \n",
        "        print(\"Cannot detect any news!\")    "
      ],
      "execution_count": 0,
      "outputs": []
    },
    {
      "cell_type": "code",
      "metadata": {
        "id": "bWrkdQodK-MP",
        "colab_type": "code",
        "colab": {}
      },
      "source": [
        "line =  'LOS ANGELES (Reuters) - A group of technology companies  including Texas Instruments Inc. &lt;TXN.N&gt;, STMicroelectronics  &lt;STM.PA&gt; and Broadcom Corp. &lt;BRCM.O&gt;, on Thursday said they  will propose a new wireless networking standard up to 10 times  the speed of the current generation.'\n",
        "line = line.lower()"
      ],
      "execution_count": 0,
      "outputs": []
    },
    {
      "cell_type": "code",
      "metadata": {
        "id": "hloU7j9HAZQj",
        "colab_type": "code",
        "outputId": "71a9931a-8b2c-4093-adeb-d01e07f7d98c",
        "colab": {
          "base_uri": "https://localhost:8080/",
          "height": 34
        }
      },
      "source": [
        "max_length = 1014\n",
        "vocab = list(\"abcdefghijklmnopqrstuvwxyz0123456789-,;.!?:’’’/\\|_@#$%ˆ&*˜‘+-=<>()[]{}\")\n",
        "result = tokenize_single_news(line,vocab,max_length)\n",
        "print(result.shape)\n"
      ],
      "execution_count": 0,
      "outputs": [
        {
          "output_type": "stream",
          "text": [
            "(1014, 70)\n"
          ],
          "name": "stdout"
        }
      ]
    },
    {
      "cell_type": "code",
      "metadata": {
        "id": "5-qDmNqYB7s_",
        "colab_type": "code",
        "outputId": "83cf9c44-4b49-4bd0-ff1a-b2db1e011d9c",
        "colab": {
          "base_uri": "https://localhost:8080/",
          "height": 68
        }
      },
      "source": [
        "predict( model, line)"
      ],
      "execution_count": 0,
      "outputs": [
        {
          "output_type": "stream",
          "text": [
            "tensor([3], device='cuda:0', grad_fn=<NotImplemented>)\n",
            "Prediction value, pre-rounding: 3.000000\n",
            "Sci/Tech news detected!\n"
          ],
          "name": "stdout"
        }
      ]
    },
    {
      "cell_type": "code",
      "metadata": {
        "id": "w-n7WwCUNWTG",
        "colab_type": "code",
        "outputId": "f05b6cd6-b5e7-4582-894e-07e37ac5ec7e",
        "colab": {
          "base_uri": "https://localhost:8080/",
          "height": 68
        }
      },
      "source": [
        "line = 'The Cleveland Indians pulled within one game of the AL Central lead by beating the Minnesota Twins, 7-1, Saturday night with home runs by Travis Hafner and Victor Martinez.'\n",
        "line = line.lower()\n",
        "predict( model, line)"
      ],
      "execution_count": 0,
      "outputs": [
        {
          "output_type": "stream",
          "text": [
            "tensor([1], device='cuda:0', grad_fn=<NotImplemented>)\n",
            "Prediction value, pre-rounding: 1.000000\n",
            "Sports news detected!\n"
          ],
          "name": "stdout"
        }
      ]
    },
    {
      "cell_type": "code",
      "metadata": {
        "id": "IjDBhacZHIck",
        "colab_type": "code",
        "outputId": "6c45f4df-24b3-4e15-a75b-0337d49dbf0b",
        "colab": {
          "base_uri": "https://localhost:8080/",
          "height": 68
        }
      },
      "source": [
        "line = 'BEIJING (Reuters) - Beijing on Monday accused a  Chinese-American arrested for spying for Taiwan of building an  espionage network in the United States, and said he could go on  trial very soon.'\n",
        "line = line.lower()\n",
        "predict( model, line)"
      ],
      "execution_count": 0,
      "outputs": [
        {
          "output_type": "stream",
          "text": [
            "tensor([0], device='cuda:0', grad_fn=<NotImplemented>)\n",
            "Prediction value, pre-rounding: 0.000000\n",
            "World news detected!\n"
          ],
          "name": "stdout"
        }
      ]
    },
    {
      "cell_type": "code",
      "metadata": {
        "id": "vwcsi4wPHRsJ",
        "colab_type": "code",
        "outputId": "42ab9358-f502-44c6-f6de-43db14171066",
        "colab": {
          "base_uri": "https://localhost:8080/",
          "height": 68
        }
      },
      "source": [
        "line = 'HONG KONG (Dow Jones)--China Mobile (Hong Kong) Ltd. (CHL), the listed unit of China #39;s biggest cellular phone operator, posted Wednesday a 7.8 rise in first-half net profit on a 23 increase in its subscriber base. '\n",
        "line = line.lower()\n",
        "predict( model, line)"
      ],
      "execution_count": 0,
      "outputs": [
        {
          "output_type": "stream",
          "text": [
            "tensor([2], device='cuda:0', grad_fn=<NotImplemented>)\n",
            "Prediction value, pre-rounding: 2.000000\n",
            "Business news detected!\n"
          ],
          "name": "stdout"
        }
      ]
    }
  ]
}